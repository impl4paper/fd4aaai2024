{
 "cells": [
  {
   "cell_type": "code",
   "execution_count": 1,
   "id": "826e5240",
   "metadata": {},
   "outputs": [],
   "source": [
    "import os\n",
    "import copy\n",
    "import time\n",
    "import pickle\n",
    "import numpy as np\n",
    "import pandas as pd\n",
    "from datetime import datetime\n",
    "import time\n",
    "import argparse\n",
    "import random\n",
    "import torch\n",
    "from torch import nn\n",
    "from torch.utils.data import DataLoader, Dataset, Subset, random_split\n",
    "from torchvision import datasets, transforms\n",
    "import torchvision\n",
    "from torch.autograd import Variable\n",
    "from torchvision.datasets import MNIST, EMNIST\n",
    "import torch.nn.functional as F\n",
    "from matplotlib.pyplot import subplots\n",
    "from torchvision.utils import save_image\n",
    "import torch.optim as optim\n",
    "seed = 42\n",
    "np.random.seed(seed)\n",
    "random.seed(seed)\n",
    "torch.manual_seed(seed)\n",
    "torch.cuda.manual_seed_all(seed)\n",
    "torch.backends.cudnn.deterministic = True\n",
    "bs = 20\n",
    "n_epoch = 200\n",
    "dim=100\n",
    "device = torch.device('cuda:1' if torch.cuda.is_available() else 'cpu')\n",
    "gpu = 0"
   ]
  },
  {
   "cell_type": "code",
   "execution_count": 2,
   "id": "4084f7d6",
   "metadata": {},
   "outputs": [],
   "source": [
    "transform = transforms.Compose([\n",
    "    transforms.ToTensor(),\n",
    "    transforms.Normalize(mean=(0.5,), std=(0.5,))])\n",
    "\n",
    "train_dataset = datasets.MNIST(root='../data', train=True, transform=transform, download=True)\n",
    "test_dataset = datasets.MNIST(root='../data', train=False, transform=transform, download=False)\n",
    "\n",
    "# Data Loader (Input Pipeline)\n",
    "train_loader = torch.utils.data.DataLoader(dataset=train_dataset, batch_size=bs, shuffle=True)\n",
    "test_loader = torch.utils.data.DataLoader(dataset=test_dataset, batch_size=100, shuffle=False)"
   ]
  },
  {
   "cell_type": "code",
   "execution_count": 3,
   "id": "82d530e5",
   "metadata": {},
   "outputs": [],
   "source": [
    "def test_inference(net, testloader):\n",
    "    \"\"\" Returns the test accuracy and loss.\n",
    "    \"\"\"\n",
    "    net.eval()\n",
    "    loss, total, correct = 0.0, 0.0, 0.0\n",
    "    criterion = nn.CrossEntropyLoss()\n",
    "    criterion.cuda(gpu)\n",
    "   \n",
    "    with torch.no_grad():\n",
    "        for batch_idx, (images, labels) in enumerate(testloader):\n",
    "            images, labels = images.cuda(gpu), labels.cuda(gpu)\n",
    "\n",
    "            # Inference\n",
    "            outputs = net(images)\n",
    "            batch_loss = criterion(outputs, labels)\n",
    "            loss += copy.deepcopy(batch_loss.item())\n",
    "\n",
    "            # Prediction\n",
    "            _, pred_labels = torch.max(outputs, 1)\n",
    "            pred_labels = pred_labels.view(-1)\n",
    "            correct += torch.sum(torch.eq(pred_labels, labels)).item()\n",
    "            total += len(labels)\n",
    "    accuracy = correct/total\n",
    "    return accuracy, loss\n",
    "\n",
    "def test_error(model, steal_model, testloader):\n",
    "    model.eval()\n",
    "    steal_model.eval()\n",
    "    loss, total, correct = 0.0, 0.0, 0.0\n",
    "    \n",
    "    with torch.no_grad():\n",
    "        for batch_idx, (images, labels) in enumerate(testloader):\n",
    "            images, labels = images.cuda(gpu), labels.cuda(gpu)\n",
    "\n",
    "            # Inference\n",
    "            outputs0 = model(images)\n",
    "            outputs1 = steal_model(images)\n",
    "            \n",
    "            # Prediction\n",
    "            _, pred_labels0 = torch.max(outputs0, 1)\n",
    "            pred_labels0 = pred_labels0.view(-1)\n",
    "            \n",
    "            _, pred_labels1 = torch.max(outputs1, 1)\n",
    "            pred_labels1 = pred_labels1.view(-1)\n",
    "            \n",
    "            correct += torch.sum(torch.eq(pred_labels0, pred_labels1)).item()\n",
    "            total += len(labels)\n",
    "    accuracy = correct/total\n",
    "    return accuracy"
   ]
  },
  {
   "cell_type": "code",
   "execution_count": 4,
   "id": "c046552a",
   "metadata": {},
   "outputs": [],
   "source": [
    "class Net(nn.Module):\n",
    "    def __init__(self, dim_in=28*28, dim_hidden=512, dim_out=10):\n",
    "        super(Net, self).__init__()\n",
    "        self.layer_input = nn.Linear(dim_in, dim_hidden)\n",
    "        self.relu = nn.ReLU()\n",
    "        self.dropout = nn.Dropout()\n",
    "        self.layer_hidden = nn.Linear(dim_hidden, dim_out)\n",
    "\n",
    "    def forward(self, x):\n",
    "        x = x.view(-1, x.shape[1]*x.shape[-2]*x.shape[-1])\n",
    "        x = self.layer_input(x)\n",
    "        x = self.dropout(x)\n",
    "        x = self.relu(x)\n",
    "        x = self.layer_hidden(x)\n",
    "        return x    "
   ]
  },
  {
   "cell_type": "code",
   "execution_count": 5,
   "id": "47e2e99e",
   "metadata": {},
   "outputs": [
    {
     "name": "stderr",
     "output_type": "stream",
     "text": [
      "/home/xdy/anaconda3/lib/python3.7/site-packages/torchvision/datasets/mnist.py:52: UserWarning: train_labels has been renamed targets\n",
      "  warnings.warn(\"train_labels has been renamed targets\")\n"
     ]
    }
   ],
   "source": [
    "labels = train_dataset.train_labels\n",
    "pri_indices, pub_indices = [], []\n",
    "for i in range(0, 6):\n",
    "    pub_indices += (labels == i).nonzero().view(-1).tolist()\n",
    "for i in range(7, 9):\n",
    "    pri_indices += (labels == i).nonzero().view(-1).tolist()\n",
    "pub_data = Subset(train_dataset, pub_indices)\n",
    "pub_train_loader = torch.utils.data.DataLoader(pub_data, batch_size=bs,shuffle=True)\n",
    "pri_data = Subset(train_dataset, pri_indices)\n",
    "pri_train_loader = torch.utils.data.DataLoader(pri_data, batch_size=bs,shuffle=True)"
   ]
  },
  {
   "cell_type": "code",
   "execution_count": null,
   "id": "4f1ca3c3",
   "metadata": {},
   "outputs": [
    {
     "name": "stdout",
     "output_type": "stream",
     "text": [
      "Local data Global Epoch: 0: Local Epoch: 0 Loss: 0.01517606593266343\n",
      "Local data Global Epoch: 0: Local Epoch: 1 Loss: 0.008462434017707467\n",
      "Local data Global Epoch: 0: Local Epoch: 2 Loss: 0.007510137570759131\n",
      "Local data Global Epoch: 0: Local Epoch: 3 Loss: 0.00633282491141678\n",
      "Local data Global Epoch: 0: Local Epoch: 4 Loss: 0.005649666861035136\n",
      "Public data Global Epoch: 0: Local Epoch: 0 Loss: 22.02039568779764\n",
      "Public data Global Epoch: 0: Local Epoch: 1 Loss: 1.0175324308004061\n",
      "Public data Global Epoch: 0: Local Epoch: 2 Loss: 0.6357897161745689\n",
      "Public data Global Epoch: 0: Local Epoch: 3 Loss: 0.4950360375866023\n",
      "Public data Global Epoch: 0: Local Epoch: 4 Loss: 0.4066002480508843\n",
      "Local data Global Epoch: 1: Local Epoch: 0 Loss: 0.04731379438205622\n",
      "Local data Global Epoch: 1: Local Epoch: 1 Loss: 0.011849441965616521\n",
      "Local data Global Epoch: 1: Local Epoch: 2 Loss: 0.01155912162347134\n",
      "Local data Global Epoch: 1: Local Epoch: 3 Loss: 0.009005939516815366\n",
      "Local data Global Epoch: 1: Local Epoch: 4 Loss: 0.006599294133354852\n",
      "Public data Global Epoch: 1: Local Epoch: 0 Loss: 132.75223693420824\n",
      "Public data Global Epoch: 1: Local Epoch: 1 Loss: 8.292747736606035\n",
      "Public data Global Epoch: 1: Local Epoch: 2 Loss: 4.892103726851218\n",
      "Public data Global Epoch: 1: Local Epoch: 3 Loss: 3.7210555556057647\n",
      "Public data Global Epoch: 1: Local Epoch: 4 Loss: 3.034057152288813\n",
      "Local data Global Epoch: 2: Local Epoch: 0 Loss: 0.04479265292544539\n",
      "Local data Global Epoch: 2: Local Epoch: 1 Loss: 0.011650286958560657\n",
      "Local data Global Epoch: 2: Local Epoch: 2 Loss: 0.00857956898039265\n",
      "Local data Global Epoch: 2: Local Epoch: 3 Loss: 0.008359513128753618\n",
      "Local data Global Epoch: 2: Local Epoch: 4 Loss: 0.007527792177291121\n",
      "Public data Global Epoch: 2: Local Epoch: 0 Loss: 344.73213729924066\n",
      "Public data Global Epoch: 2: Local Epoch: 1 Loss: 16.110276717932056\n",
      "Public data Global Epoch: 2: Local Epoch: 2 Loss: 8.70905971810419\n",
      "Public data Global Epoch: 2: Local Epoch: 3 Loss: 7.190825332431416\n",
      "Public data Global Epoch: 2: Local Epoch: 4 Loss: 6.062109162131801\n",
      "Local data Global Epoch: 3: Local Epoch: 0 Loss: 0.046850898065886576\n",
      "Local data Global Epoch: 3: Local Epoch: 1 Loss: 0.01273467456874017\n",
      "Local data Global Epoch: 3: Local Epoch: 2 Loss: 0.01249911577947981\n",
      "Local data Global Epoch: 3: Local Epoch: 3 Loss: 0.010922004153915622\n",
      "Local data Global Epoch: 3: Local Epoch: 4 Loss: 0.010463811506089875\n",
      "Public data Global Epoch: 3: Local Epoch: 0 Loss: 631.8284298559216\n",
      "Public data Global Epoch: 3: Local Epoch: 1 Loss: 27.11427071513071\n",
      "Public data Global Epoch: 3: Local Epoch: 2 Loss: 14.75895119616294\n",
      "Public data Global Epoch: 3: Local Epoch: 3 Loss: 11.384320514505362\n",
      "Public data Global Epoch: 3: Local Epoch: 4 Loss: 10.356643004562654\n",
      "Local data Global Epoch: 4: Local Epoch: 0 Loss: 0.04712335462984875\n",
      "Local data Global Epoch: 4: Local Epoch: 1 Loss: 0.01190962885637849\n",
      "Local data Global Epoch: 4: Local Epoch: 2 Loss: 0.010514493636458542\n",
      "Local data Global Epoch: 4: Local Epoch: 3 Loss: 0.010211238778289831\n",
      "Local data Global Epoch: 4: Local Epoch: 4 Loss: 0.009221843096136157\n",
      "Public data Global Epoch: 4: Local Epoch: 0 Loss: 942.4311202781358\n",
      "Public data Global Epoch: 4: Local Epoch: 1 Loss: 29.67235896833423\n",
      "Public data Global Epoch: 4: Local Epoch: 2 Loss: 17.68293404228985\n",
      "Public data Global Epoch: 4: Local Epoch: 3 Loss: 14.743568503155311\n",
      "Public data Global Epoch: 4: Local Epoch: 4 Loss: 13.149968035538775\n",
      "Local data Global Epoch: 5: Local Epoch: 0 Loss: 0.07475134648600942\n",
      "Local data Global Epoch: 5: Local Epoch: 1 Loss: 0.02362055593631327\n",
      "Local data Global Epoch: 5: Local Epoch: 2 Loss: 0.01719152265911689\n",
      "Local data Global Epoch: 5: Local Epoch: 3 Loss: 0.013277963929414788\n",
      "Local data Global Epoch: 5: Local Epoch: 4 Loss: 0.011464542192648272\n",
      "Public data Global Epoch: 5: Local Epoch: 0 Loss: 1300.996648296006\n",
      "Public data Global Epoch: 5: Local Epoch: 1 Loss: 36.69365425733695\n"
     ]
    }
   ],
   "source": [
    "global_ep = 200\n",
    "local_ep = 5\n",
    "mnist_dim = train_dataset.train_data.size(1) * train_dataset.train_data.size(2)\n",
    "kl_loss = nn.KLDivLoss(reduction='batchmean')\n",
    "criterion = nn.CrossEntropyLoss().cuda(gpu)\n",
    "mse_criterion = nn.MSELoss().cuda(gpu)\n",
    "local_model = Net()\n",
    "local_model.cuda(gpu)\n",
    "clone_model = Net()\n",
    "clone_model.cuda(gpu)\n",
    "target_accs = []\n",
    "accs = []\n",
    "errors = []\n",
    "\n",
    "local_optimizer = torch.optim.Adam(local_model.parameters())\n",
    "clone_optimizer = torch.optim.Adam(clone_model.parameters())\n",
    "\n",
    "for epoch in range(global_ep):\n",
    "    local_model.train()\n",
    "    for e in range(local_ep):\n",
    "        for loader in [pri_train_loader]: #pri_train_loader, pub_train_loader]:\n",
    "            train_loss = 0.0\n",
    "            for img,label in loader:\n",
    "                #img, label = img.view(-1, mnist_dim).cuda(gpu), label.cuda(gpu)\n",
    "                img, label = img.cuda(gpu), label.cuda(gpu)\n",
    "                local_optimizer.zero_grad()\n",
    "                output = local_model(img)\n",
    "                loss = criterion(output, label)\n",
    "                loss.backward()\n",
    "                local_optimizer.step()\n",
    "                train_loss += loss.item() * img.size(0)\n",
    "            train_loss /= len(train_loader.dataset)\n",
    "            print(f\"Local data Global Epoch: {epoch}: Local Epoch: {e} Loss: {train_loss}\")\n",
    "    \n",
    "    clone_model.train()        \n",
    "    for e in range(local_ep):\n",
    "        for loader in [pub_train_loader]: #pri_train_loader, pub_train_loader]:\n",
    "            train_loss = 0.0\n",
    "            for img, label in loader:\n",
    "                #img, label = img.view(-1,mnist_dim).cuda(gpu), label.cuda(gpu)\n",
    "                img, label = img.cuda(gpu), label.cuda(gpu)\n",
    "                local_optimizer.zero_grad()\n",
    "                logits = local_model(img)\n",
    "                \n",
    "                \n",
    "                #_, pred_labels = torch.max(logits, 1)\n",
    "                #pred_labels = pred_labels.view(-1)\n",
    "                pred_labels = logits.clone().detach()\n",
    "                clone_optimizer.zero_grad()\n",
    "                output = clone_model(img)\n",
    "                #loss = mse_criterion(output, pred_labels)\n",
    "                loss = kl_loss(F.log_softmax(output, dim=1), F.softmax(pred_labels, dim=1))\n",
    "                loss.backward()\n",
    "                clone_optimizer.step()\n",
    "                train_loss += loss.item() * img.size(0)\n",
    "                \n",
    "                pub_loss = criterion(logits, label)\n",
    "                pub_loss.backward()\n",
    "                local_optimizer.step()\n",
    "                \n",
    "            train_loss /= len(loader.dataset)\n",
    "            print(f\"Public data Global Epoch: {epoch}: Local Epoch: {e} Loss: {train_loss}\")\n",
    "        target_accs.append(test_inference(local_model, test_loader)[0])\n",
    "        accs.append(test_inference(clone_model, test_loader)[0])\n",
    "        errors.append(test_error(local_model, clone_model, test_loader))\n",
    "                #train_loss += loss.item() * img.size(0)\n",
    "            #train_loss /= len(train_loader.dataset)\n",
    "            #print(f\"Global data Global Epoch: {epoch}: Local Epoch: {e} Loss: {train_loss}\")"
   ]
  },
  {
   "cell_type": "code",
   "execution_count": 8,
   "id": "ddad25ef",
   "metadata": {},
   "outputs": [
    {
     "data": {
      "text/plain": [
       "1000"
      ]
     },
     "execution_count": 8,
     "metadata": {},
     "output_type": "execute_result"
    }
   ],
   "source": [
    "len(accs)"
   ]
  },
  {
   "cell_type": "code",
   "execution_count": 9,
   "id": "3048840e",
   "metadata": {},
   "outputs": [],
   "source": [
    "from matplotlib.pyplot import subplots\n",
    "import matplotlib.pyplot as plt"
   ]
  },
  {
   "cell_type": "code",
   "execution_count": 14,
   "id": "851fb82f",
   "metadata": {},
   "outputs": [
    {
     "name": "stdout",
     "output_type": "stream",
     "text": [
      "1000\n"
     ]
    },
    {
     "data": {
      "image/png": "[encoded data removed]",
      "text/plain": [
       "<Figure size 432x288 with 1 Axes>"
      ]
     },
     "metadata": {
      "needs_background": "light"
     },
     "output_type": "display_data"
    }
   ],
   "source": [
    "print(len(accs))\n",
    "x = np.arange(200)\n",
    "t = ['o', 'x', 'o']\n",
    "c = ['r', 'b', 'g']\n",
    "legends = ['Target Model', 'Clone Model','diff']\n",
    "plt.plot(x, [target_accs[i] for i in range(0,len(target_accs),5)], label=legends[0])#,marker=t[i])\n",
    "plt.plot(x, [accs[i] for i in range(0,len(accs),5)], label=legends[1])#,marker=t[i])  \n",
    "plt.plot(x, [errors[i] for i in range(0,len(accs),5)], label=legends[2])#,marker=t[i])  \n",
    "plt.xlabel('Iterations')\n",
    "plt.ylabel('Accuracy')\n",
    "plt.legend()\n",
    "plt.grid(True, linestyle='-.', color='black')\n",
    "\n",
    "#plt.savefig('KL_result_0.9.png')\n",
    "plt.show()"
   ]
  },
  {
   "cell_type": "code",
   "execution_count": null,
   "id": "60421e11",
   "metadata": {},
   "outputs": [],
   "source": []
  }
 ],
 "metadata": {
  "kernelspec": {
   "display_name": "Python 3 (ipykernel)",
   "language": "python",
   "name": "python3"
  },
  "language_info": {
   "codemirror_mode": {
    "name": "ipython",
    "version": 3
   },
   "file_extension": ".py",
   "mimetype": "text/x-python",
   "name": "python",
   "nbconvert_exporter": "python",
   "pygments_lexer": "ipython3",
   "version": "3.7.11"
  }
 },
 "nbformat": 4,
 "nbformat_minor": 5
}
