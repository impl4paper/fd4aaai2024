{
 "cells": [
  {
   "cell_type": "code",
   "execution_count": 17,
   "id": "885d05bb",
   "metadata": {},
   "outputs": [],
   "source": [
    "import os\n",
    "import copy\n",
    "import time\n",
    "import pickle\n",
    "import numpy as np\n",
    "import pandas as pd\n",
    "from datetime import datetime\n",
    "import time\n",
    "import argparse\n",
    "import random\n",
    "import torch\n",
    "from torch import nn\n",
    "from torch.utils.data import DataLoader, Dataset, Subset, random_split\n",
    "from torchvision import datasets, transforms\n",
    "import torchvision\n",
    "from torch.autograd import Variable\n",
    "from torchvision.datasets import MNIST, EMNIST\n",
    "import torch.nn.functional as F\n",
    "from matplotlib.pyplot import subplots\n",
    "from torchvision.utils import save_image\n",
    "import torch.optim as optim\n",
    "from matplotlib.pyplot import subplots\n",
    "import matplotlib.pyplot as plt\n",
    "seed = 42\n",
    "np.random.seed(seed)\n",
    "random.seed(seed)\n",
    "torch.manual_seed(seed)\n",
    "torch.cuda.manual_seed_all(seed)\n",
    "torch.backends.cudnn.deterministic = True\n",
    "bs = 20\n",
    "n_epoch = 200\n",
    "dim=100\n",
    "device = torch.device('cuda:1' if torch.cuda.is_available() else 'cpu')\n",
    "gpu = 1"
   ]
  },
  {
   "cell_type": "code",
   "execution_count": 16,
   "id": "2b1180ca",
   "metadata": {},
   "outputs": [],
   "source": [
    "transform = transforms.Compose([\n",
    "    transforms.ToTensor(),\n",
    "    transforms.Normalize(mean=(0.5,), std=(0.5,))])\n",
    "\n",
    "train_dataset = datasets.MNIST(root='../data', train=True, transform=transform, download=True)\n",
    "test_dataset = datasets.MNIST(root='../data', train=False, transform=transform, download=False)\n",
    "\n",
    "# Data Loader (Input Pipeline)\n",
    "train_loader = torch.utils.data.DataLoader(dataset=train_dataset, batch_size=bs, shuffle=True)\n",
    "test_loader = torch.utils.data.DataLoader(dataset=test_dataset, batch_size=100, shuffle=False)"
   ]
  },
  {
   "cell_type": "code",
   "execution_count": 18,
   "id": "a316c679",
   "metadata": {},
   "outputs": [],
   "source": [
    "def test_inference(net, testloader):\n",
    "    \"\"\" Returns the test accuracy and loss.\n",
    "    \"\"\"\n",
    "    net.eval()\n",
    "    loss, total, correct = 0.0, 0.0, 0.0\n",
    "    criterion = nn.CrossEntropyLoss()\n",
    "    criterion.cuda(gpu)\n",
    "   \n",
    "    with torch.no_grad():\n",
    "        for batch_idx, (images, labels) in enumerate(testloader):\n",
    "            images, labels = images.cuda(gpu), labels.cuda(gpu)\n",
    "\n",
    "            # Inference\n",
    "            outputs = net(images)\n",
    "            batch_loss = criterion(outputs, labels)\n",
    "            loss += copy.deepcopy(batch_loss.item())\n",
    "\n",
    "            # Prediction\n",
    "            _, pred_labels = torch.max(outputs, 1)\n",
    "            pred_labels = pred_labels.view(-1)\n",
    "            correct += torch.sum(torch.eq(pred_labels, labels)).item()\n",
    "            total += len(labels)\n",
    "    accuracy = correct/total\n",
    "    return accuracy, loss\n",
    "\n",
    "def test_error(model, steal_model, testloader):\n",
    "    model.eval()\n",
    "    steal_model.eval()\n",
    "    loss, total, correct = 0.0, 0.0, 0.0\n",
    "    \n",
    "    with torch.no_grad():\n",
    "        for batch_idx, (images, labels) in enumerate(testloader):\n",
    "            images, labels = images.cuda(gpu), labels.cuda(gpu)\n",
    "\n",
    "            # Inference\n",
    "            outputs0 = model(images)\n",
    "            outputs1 = steal_model(images)\n",
    "            \n",
    "            # Prediction\n",
    "            _, pred_labels0 = torch.max(outputs0, 1)\n",
    "            pred_labels0 = pred_labels0.view(-1)\n",
    "            \n",
    "            _, pred_labels1 = torch.max(outputs1, 1)\n",
    "            pred_labels1 = pred_labels1.view(-1)\n",
    "            \n",
    "            correct += torch.sum(torch.eq(pred_labels0, pred_labels1)).item()\n",
    "            total += len(labels)\n",
    "    accuracy = correct/total\n",
    "    return accuracy"
   ]
  },
  {
   "cell_type": "code",
   "execution_count": 23,
   "id": "3e2cf9c2",
   "metadata": {},
   "outputs": [],
   "source": [
    "# class Net(nn.Module):\n",
    "#     def __init__(self, dim_in=28*28, dim_hidden=512, dim_out=16):\n",
    "#         super(Net, self).__init__()\n",
    "#         self.layer_input = nn.Linear(dim_in, dim_hidden)\n",
    "#         self.relu = nn.ReLU()\n",
    "#         self.dropout = nn.Dropout()\n",
    "#         self.layer_hidden = nn.Linear(dim_hidden, dim_out)\n",
    "\n",
    "#     def forward(self, x):\n",
    "#         x = x.view(-1, x.shape[1]*x.shape[-2]*x.shape[-1])\n",
    "#         x = self.layer_input(x)\n",
    "#         x = self.dropout(x)\n",
    "#         x = self.relu(x)\n",
    "#         x = self.layer_hidden(x)\n",
    "#         return x    \n",
    "\n",
    "class Net(nn.Module):\n",
    "    def __init__(self, fmaps1=40, fmaps2=160, dense=200, dropout=0.4, num_classes=16):\n",
    "        super(Net, self).__init__()\n",
    "        self.conv1 = nn.Sequential(         \n",
    "            nn.Conv2d(in_channels=1, out_channels=fmaps1, kernel_size=5, stride=1, padding='same'),                              \n",
    "            nn.LeakyReLU(),\n",
    "            nn.MaxPool2d(kernel_size=2),\n",
    "        )\n",
    "        self.conv2 = nn.Sequential(         \n",
    "            nn.Conv2d(in_channels=fmaps1, out_channels=fmaps2, kernel_size=5, stride=1, padding='same'),                              \n",
    "            nn.LeakyReLU(),\n",
    "            nn.MaxPool2d(kernel_size=2),\n",
    "        )\n",
    "        self.fcon1 = nn.Sequential(nn.Linear(49*fmaps2, dense), nn.LeakyReLU())\n",
    "        self.fcon2 = nn.Linear(dense, num_classes)\n",
    "        self.dropout = nn.Dropout(p=dropout)\n",
    "    \n",
    "    def forward(self, x):\n",
    "        x = self.conv1(x)\n",
    "        x = self.conv2(x)\n",
    "        x = x.view(x.size(0), -1)\n",
    "        x = self.dropout(self.fcon1(x))\n",
    "        x = self.fcon2(x)\n",
    "        return x"
   ]
  },
  {
   "cell_type": "code",
   "execution_count": 20,
   "id": "3034eeef",
   "metadata": {},
   "outputs": [],
   "source": [
    "from dataprocess.femnist import *\n",
    "from dataprocess.image import *\n",
    "class DatasetSplit(Dataset):\n",
    "    \"\"\"An abstract Dataset class wrapped around Pytorch Dataset class.\n",
    "    \"\"\"\n",
    "\n",
    "    def __init__(self, dataset, idxs):\n",
    "        self.dataset = dataset\n",
    "        self.idxs = [int(i) for i in idxs]\n",
    "\n",
    "    def __len__(self):\n",
    "        return len(self.idxs)\n",
    "\n",
    "    def __getitem__(self, item):\n",
    "        image, label = self.dataset[self.idxs[item]]\n",
    "        return torch.tensor(image), torch.tensor(int(label))#  根据imbalanced-cifar10修改了这里"
   ]
  },
  {
   "cell_type": "code",
   "execution_count": 21,
   "id": "42054325",
   "metadata": {},
   "outputs": [
    {
     "name": "stdout",
     "output_type": "stream",
     "text": [
      "EMNIST-letter dataset ... \n",
      "X_train shape : (124800, 1, 28, 28)\n",
      "X_test shape : (20800, 1, 28, 28)\n",
      "y_train shape : (124800,)\n",
      "y_test shape : (20800,)\n",
      "the size of publicset: 5000\n",
      "lenght:2162\n"
     ]
    },
    {
     "name": "stderr",
     "output_type": "stream",
     "text": [
      "/home/xdy/lab/logit_privacy/src/dataprocess/femnist.py:86: VisibleDeprecationWarning: Creating an ndarray from ragged nested sequences (which is a list-or-tuple of lists-or-tuples-or ndarrays with different lengths or shapes) is deprecated. If you meant to do this, you must specify 'dtype=object' when creating the ndarray.\n",
      "  trainset = np.array(trainset)\n",
      "/home/xdy/lab/logit_privacy/src/dataprocess/femnist.py:89: VisibleDeprecationWarning: Creating an ndarray from ragged nested sequences (which is a list-or-tuple of lists-or-tuples-or ndarrays with different lengths or shapes) is deprecated. If you meant to do this, you must specify 'dtype=object' when creating the ndarray.\n",
      "  testset = np.array(testset)\n"
     ]
    }
   ],
   "source": [
    "train_dataset, test_dataset, user_groups = numpy2dataset(N_parties=100)\n",
    "share_dataset = get_mnist_as_pub(numpercls=500)\n",
    "print(f\"lenght:{len(train_dataset)}\")\n",
    "pub_train_loader = torch.utils.data.DataLoader(share_dataset, batch_size=bs,shuffle=True)\n",
    "pri_train_loader = torch.utils.data.DataLoader(DatasetSplit(train_dataset,[i for i in range(len(train_dataset))]), batch_size=bs,shuffle=True)\n",
    "test_loader = torch.utils.data.DataLoader(dataset=test_dataset, batch_size=100, shuffle=False)"
   ]
  },
  {
   "cell_type": "code",
   "execution_count": 5,
   "id": "1f7e8cf9",
   "metadata": {},
   "outputs": [
    {
     "name": "stderr",
     "output_type": "stream",
     "text": [
      "/home/xdy/anaconda3/lib/python3.7/site-packages/torchvision/datasets/mnist.py:52: UserWarning: train_labels has been renamed targets\n",
      "  warnings.warn(\"train_labels has been renamed targets\")\n"
     ]
    }
   ],
   "source": [
    "labels = train_dataset.train_labels\n",
    "pri_indices, pub_indices = [], []\n",
    "for i in range(0, 6):\n",
    "    pub_indices += (labels == i).nonzero().view(-1).tolist()\n",
    "for i in range(7, 9):\n",
    "    pri_indices += (labels == i).nonzero().view(-1).tolist()\n",
    "pub_data = Subset(train_dataset, pub_indices)\n",
    "pub_train_loader = torch.utils.data.DataLoader(pub_data, batch_size=bs,shuffle=True)\n",
    "pri_data = Subset(train_dataset, pri_indices)\n",
    "pri_train_loader = torch.utils.data.DataLoader(pri_data, batch_size=bs,shuffle=True)"
   ]
  },
  {
   "cell_type": "code",
   "execution_count": 22,
   "id": "deb7a2e4",
   "metadata": {},
   "outputs": [
    {
     "name": "stderr",
     "output_type": "stream",
     "text": [
      "/opt/conda/conda-bld/pytorch_1634272168290/work/aten/src/ATen/native/cuda/Loss.cu:247: nll_loss_forward_reduce_cuda_kernel_2d: block: [0,0,0], thread: [0,0,0] Assertion `t >= 0 && t < n_classes` failed.\n",
      "/opt/conda/conda-bld/pytorch_1634272168290/work/aten/src/ATen/native/cuda/Loss.cu:247: nll_loss_forward_reduce_cuda_kernel_2d: block: [0,0,0], thread: [1,0,0] Assertion `t >= 0 && t < n_classes` failed.\n",
      "/opt/conda/conda-bld/pytorch_1634272168290/work/aten/src/ATen/native/cuda/Loss.cu:247: nll_loss_forward_reduce_cuda_kernel_2d: block: [0,0,0], thread: [2,0,0] Assertion `t >= 0 && t < n_classes` failed.\n",
      "/opt/conda/conda-bld/pytorch_1634272168290/work/aten/src/ATen/native/cuda/Loss.cu:247: nll_loss_forward_reduce_cuda_kernel_2d: block: [0,0,0], thread: [3,0,0] Assertion `t >= 0 && t < n_classes` failed.\n",
      "/opt/conda/conda-bld/pytorch_1634272168290/work/aten/src/ATen/native/cuda/Loss.cu:247: nll_loss_forward_reduce_cuda_kernel_2d: block: [0,0,0], thread: [4,0,0] Assertion `t >= 0 && t < n_classes` failed.\n",
      "/opt/conda/conda-bld/pytorch_1634272168290/work/aten/src/ATen/native/cuda/Loss.cu:247: nll_loss_forward_reduce_cuda_kernel_2d: block: [0,0,0], thread: [5,0,0] Assertion `t >= 0 && t < n_classes` failed.\n",
      "/opt/conda/conda-bld/pytorch_1634272168290/work/aten/src/ATen/native/cuda/Loss.cu:247: nll_loss_forward_reduce_cuda_kernel_2d: block: [0,0,0], thread: [6,0,0] Assertion `t >= 0 && t < n_classes` failed.\n",
      "/opt/conda/conda-bld/pytorch_1634272168290/work/aten/src/ATen/native/cuda/Loss.cu:247: nll_loss_forward_reduce_cuda_kernel_2d: block: [0,0,0], thread: [7,0,0] Assertion `t >= 0 && t < n_classes` failed.\n",
      "/opt/conda/conda-bld/pytorch_1634272168290/work/aten/src/ATen/native/cuda/Loss.cu:247: nll_loss_forward_reduce_cuda_kernel_2d: block: [0,0,0], thread: [8,0,0] Assertion `t >= 0 && t < n_classes` failed.\n",
      "/opt/conda/conda-bld/pytorch_1634272168290/work/aten/src/ATen/native/cuda/Loss.cu:247: nll_loss_forward_reduce_cuda_kernel_2d: block: [0,0,0], thread: [9,0,0] Assertion `t >= 0 && t < n_classes` failed.\n",
      "/opt/conda/conda-bld/pytorch_1634272168290/work/aten/src/ATen/native/cuda/Loss.cu:247: nll_loss_forward_reduce_cuda_kernel_2d: block: [0,0,0], thread: [10,0,0] Assertion `t >= 0 && t < n_classes` failed.\n",
      "/opt/conda/conda-bld/pytorch_1634272168290/work/aten/src/ATen/native/cuda/Loss.cu:247: nll_loss_forward_reduce_cuda_kernel_2d: block: [0,0,0], thread: [11,0,0] Assertion `t >= 0 && t < n_classes` failed.\n",
      "/opt/conda/conda-bld/pytorch_1634272168290/work/aten/src/ATen/native/cuda/Loss.cu:247: nll_loss_forward_reduce_cuda_kernel_2d: block: [0,0,0], thread: [12,0,0] Assertion `t >= 0 && t < n_classes` failed.\n",
      "/opt/conda/conda-bld/pytorch_1634272168290/work/aten/src/ATen/native/cuda/Loss.cu:247: nll_loss_forward_reduce_cuda_kernel_2d: block: [0,0,0], thread: [13,0,0] Assertion `t >= 0 && t < n_classes` failed.\n",
      "/opt/conda/conda-bld/pytorch_1634272168290/work/aten/src/ATen/native/cuda/Loss.cu:247: nll_loss_forward_reduce_cuda_kernel_2d: block: [0,0,0], thread: [14,0,0] Assertion `t >= 0 && t < n_classes` failed.\n",
      "/opt/conda/conda-bld/pytorch_1634272168290/work/aten/src/ATen/native/cuda/Loss.cu:247: nll_loss_forward_reduce_cuda_kernel_2d: block: [0,0,0], thread: [15,0,0] Assertion `t >= 0 && t < n_classes` failed.\n",
      "/opt/conda/conda-bld/pytorch_1634272168290/work/aten/src/ATen/native/cuda/Loss.cu:247: nll_loss_forward_reduce_cuda_kernel_2d: block: [0,0,0], thread: [16,0,0] Assertion `t >= 0 && t < n_classes` failed.\n",
      "/opt/conda/conda-bld/pytorch_1634272168290/work/aten/src/ATen/native/cuda/Loss.cu:247: nll_loss_forward_reduce_cuda_kernel_2d: block: [0,0,0], thread: [17,0,0] Assertion `t >= 0 && t < n_classes` failed.\n",
      "/opt/conda/conda-bld/pytorch_1634272168290/work/aten/src/ATen/native/cuda/Loss.cu:247: nll_loss_forward_reduce_cuda_kernel_2d: block: [0,0,0], thread: [18,0,0] Assertion `t >= 0 && t < n_classes` failed.\n",
      "/opt/conda/conda-bld/pytorch_1634272168290/work/aten/src/ATen/native/cuda/Loss.cu:247: nll_loss_forward_reduce_cuda_kernel_2d: block: [0,0,0], thread: [19,0,0] Assertion `t >= 0 && t < n_classes` failed.\n"
     ]
    },
    {
     "ename": "RuntimeError",
     "evalue": "CUDA error: CUBLAS_STATUS_INTERNAL_ERROR when calling `cublasSgemm( handle, opa, opb, m, n, k, &alpha, a, lda, b, ldb, &beta, c, ldc)`",
     "output_type": "error",
     "traceback": [
      "\u001b[0;31m---------------------------------------------------------------------------\u001b[0m",
      "\u001b[0;31mRuntimeError\u001b[0m                              Traceback (most recent call last)",
      "\u001b[0;32m/tmp/ipykernel_18252/3295682270.py\u001b[0m in \u001b[0;36m<module>\u001b[0;34m\u001b[0m\n\u001b[1;32m     31\u001b[0m                 \u001b[0moutput\u001b[0m \u001b[0;34m=\u001b[0m \u001b[0mlocal_model\u001b[0m\u001b[0;34m(\u001b[0m\u001b[0mimg\u001b[0m\u001b[0;34m)\u001b[0m\u001b[0;34m\u001b[0m\u001b[0;34m\u001b[0m\u001b[0m\n\u001b[1;32m     32\u001b[0m                 \u001b[0mloss\u001b[0m \u001b[0;34m=\u001b[0m \u001b[0mcriterion\u001b[0m\u001b[0;34m(\u001b[0m\u001b[0moutput\u001b[0m\u001b[0;34m,\u001b[0m \u001b[0mlabel\u001b[0m\u001b[0;34m)\u001b[0m\u001b[0;34m\u001b[0m\u001b[0;34m\u001b[0m\u001b[0m\n\u001b[0;32m---> 33\u001b[0;31m                 \u001b[0mloss\u001b[0m\u001b[0;34m.\u001b[0m\u001b[0mbackward\u001b[0m\u001b[0;34m(\u001b[0m\u001b[0;34m)\u001b[0m\u001b[0;34m\u001b[0m\u001b[0;34m\u001b[0m\u001b[0m\n\u001b[0m\u001b[1;32m     34\u001b[0m                 \u001b[0mlocal_optimizer\u001b[0m\u001b[0;34m.\u001b[0m\u001b[0mstep\u001b[0m\u001b[0;34m(\u001b[0m\u001b[0;34m)\u001b[0m\u001b[0;34m\u001b[0m\u001b[0;34m\u001b[0m\u001b[0m\n\u001b[1;32m     35\u001b[0m                 \u001b[0mtrain_loss\u001b[0m \u001b[0;34m+=\u001b[0m \u001b[0mloss\u001b[0m\u001b[0;34m.\u001b[0m\u001b[0mitem\u001b[0m\u001b[0;34m(\u001b[0m\u001b[0;34m)\u001b[0m \u001b[0;34m*\u001b[0m \u001b[0mimg\u001b[0m\u001b[0;34m.\u001b[0m\u001b[0msize\u001b[0m\u001b[0;34m(\u001b[0m\u001b[0;36m0\u001b[0m\u001b[0;34m)\u001b[0m\u001b[0;34m\u001b[0m\u001b[0;34m\u001b[0m\u001b[0m\n",
      "\u001b[0;32m~/anaconda3/lib/python3.7/site-packages/torch/_tensor.py\u001b[0m in \u001b[0;36mbackward\u001b[0;34m(self, gradient, retain_graph, create_graph, inputs)\u001b[0m\n\u001b[1;32m    305\u001b[0m                 \u001b[0mcreate_graph\u001b[0m\u001b[0;34m=\u001b[0m\u001b[0mcreate_graph\u001b[0m\u001b[0;34m,\u001b[0m\u001b[0;34m\u001b[0m\u001b[0;34m\u001b[0m\u001b[0m\n\u001b[1;32m    306\u001b[0m                 inputs=inputs)\n\u001b[0;32m--> 307\u001b[0;31m         \u001b[0mtorch\u001b[0m\u001b[0;34m.\u001b[0m\u001b[0mautograd\u001b[0m\u001b[0;34m.\u001b[0m\u001b[0mbackward\u001b[0m\u001b[0;34m(\u001b[0m\u001b[0mself\u001b[0m\u001b[0;34m,\u001b[0m \u001b[0mgradient\u001b[0m\u001b[0;34m,\u001b[0m \u001b[0mretain_graph\u001b[0m\u001b[0;34m,\u001b[0m \u001b[0mcreate_graph\u001b[0m\u001b[0;34m,\u001b[0m \u001b[0minputs\u001b[0m\u001b[0;34m=\u001b[0m\u001b[0minputs\u001b[0m\u001b[0;34m)\u001b[0m\u001b[0;34m\u001b[0m\u001b[0;34m\u001b[0m\u001b[0m\n\u001b[0m\u001b[1;32m    308\u001b[0m \u001b[0;34m\u001b[0m\u001b[0m\n\u001b[1;32m    309\u001b[0m     \u001b[0;32mdef\u001b[0m \u001b[0mregister_hook\u001b[0m\u001b[0;34m(\u001b[0m\u001b[0mself\u001b[0m\u001b[0;34m,\u001b[0m \u001b[0mhook\u001b[0m\u001b[0;34m)\u001b[0m\u001b[0;34m:\u001b[0m\u001b[0;34m\u001b[0m\u001b[0;34m\u001b[0m\u001b[0m\n",
      "\u001b[0;32m~/anaconda3/lib/python3.7/site-packages/torch/autograd/__init__.py\u001b[0m in \u001b[0;36mbackward\u001b[0;34m(tensors, grad_tensors, retain_graph, create_graph, grad_variables, inputs)\u001b[0m\n\u001b[1;32m    154\u001b[0m     Variable._execution_engine.run_backward(\n\u001b[1;32m    155\u001b[0m         \u001b[0mtensors\u001b[0m\u001b[0;34m,\u001b[0m \u001b[0mgrad_tensors_\u001b[0m\u001b[0;34m,\u001b[0m \u001b[0mretain_graph\u001b[0m\u001b[0;34m,\u001b[0m \u001b[0mcreate_graph\u001b[0m\u001b[0;34m,\u001b[0m \u001b[0minputs\u001b[0m\u001b[0;34m,\u001b[0m\u001b[0;34m\u001b[0m\u001b[0;34m\u001b[0m\u001b[0m\n\u001b[0;32m--> 156\u001b[0;31m         allow_unreachable=True, accumulate_grad=True)  # allow_unreachable flag\n\u001b[0m\u001b[1;32m    157\u001b[0m \u001b[0;34m\u001b[0m\u001b[0m\n\u001b[1;32m    158\u001b[0m \u001b[0;34m\u001b[0m\u001b[0m\n",
      "\u001b[0;31mRuntimeError\u001b[0m: CUDA error: CUBLAS_STATUS_INTERNAL_ERROR when calling `cublasSgemm( handle, opa, opb, m, n, k, &alpha, a, lda, b, ldb, &beta, c, ldc)`"
     ]
    }
   ],
   "source": [
    "global_ep = 50\n",
    "local_ep = 1\n",
    "#mnist_dim = train_dataset.train_data.size(1) * train_dataset.train_data.size(2)\n",
    "klcriterion = nn.KLDivLoss(reduction='batchmean')\n",
    "criterion = nn.CrossEntropyLoss().cuda(gpu)\n",
    "mse_criterion = nn.MSELoss().cuda(gpu)\n",
    "local_model = Net()\n",
    "local_model.cuda(gpu)\n",
    "clone_model = Net()\n",
    "clone_model.cuda(gpu)\n",
    "klclone_model = Net()\n",
    "klclone_model.cuda(gpu)\n",
    "target_accs = []\n",
    "accs = []\n",
    "klaccs = []\n",
    "errors = []\n",
    "klerrors = []\n",
    "local_optimizer = torch.optim.Adam(local_model.parameters())\n",
    "clone_optimizer = torch.optim.Adam(clone_model.parameters())\n",
    "klclone_optimizer = torch.optim.Adam(klclone_model.parameters())\n",
    "\n",
    "for epoch in range(global_ep):\n",
    "    local_model.train()\n",
    "    for e in range(local_ep):\n",
    "        for loader in [pri_train_loader]: #pri_train_loader, pub_train_loader]:\n",
    "            train_loss = 0.0\n",
    "            for img,label in loader:\n",
    "                #img, label = img.view(-1, mnist_dim).cuda(gpu), label.cuda(gpu)\n",
    "                img, label = img.cuda(gpu), label.cuda(gpu)\n",
    "                local_optimizer.zero_grad()\n",
    "                output = local_model(img)\n",
    "                loss = criterion(output, label)\n",
    "                loss.backward()\n",
    "                local_optimizer.step()\n",
    "                train_loss += loss.item() * img.size(0)\n",
    "            train_loss /= len(pri_train_loader.dataset)\n",
    "            print(f\"Local data Global Epoch: {epoch}: Local Epoch: {e} Loss: {train_loss}\")\n",
    "    \n",
    "    clone_model.train()\n",
    "    klclone_model.train()\n",
    "    for e in range(local_ep):\n",
    "        for loader in [pub_train_loader]: #pri_train_loader, pub_train_loader]:\n",
    "            train_loss, kltrain_loss = 0.0, 0.0\n",
    "            for img, label in loader:\n",
    "                #img, label = img.view(-1,mnist_dim).cuda(gpu), label.cuda(gpu)\n",
    "                img, label = img.cuda(gpu), label.cuda(gpu)\n",
    "                local_optimizer.zero_grad()\n",
    "                logits = local_model(img)\n",
    "                \n",
    "                \n",
    "                _, pred_labels = torch.max(logits, 1)\n",
    "                pred_labels = pred_labels.view(-1)\n",
    "                \n",
    "                klpred_labels = logits.clone().detach()\n",
    "    \n",
    "                clone_optimizer.zero_grad()\n",
    "                klclone_optimizer.zero_grad()\n",
    "        \n",
    "                output = clone_model(img)\n",
    "                kloutput = klclone_model(img)\n",
    "                loss = criterion(output, pred_labels)\n",
    "                #klloss = klcriterion(F.log_softmax(kloutput, dim=1), F.softmax(klpred_labels, dim=1))\n",
    "                klloss = mse_criterion(kloutput, klpred_labels)\n",
    "                loss.backward()\n",
    "                klloss.backward()\n",
    "                clone_optimizer.step()\n",
    "                klclone_optimizer.step()\n",
    "                train_loss += loss.item() * img.size(0)\n",
    "                kltrain_loss += klloss.item() * img.size(0)\n",
    "                \n",
    "                pub_loss = criterion(logits, label)\n",
    "                pub_loss.backward()\n",
    "                local_optimizer.step()\n",
    "                \n",
    "            train_loss /= len(loader.dataset)\n",
    "            kltrain_loss /= len(loader.dataset)\n",
    "            print(f\"Public data Global Epoch: {epoch}: Local Epoch: {e} Loss: {train_loss}, klloss: {kltrain_loss}\")\n",
    "    target_accs.append(test_inference(local_model, test_loader)[0])\n",
    "    \n",
    "    accs.append(test_inference(clone_model, test_loader)[0])\n",
    "    klaccs.append(test_inference(klclone_model, test_loader)[0])\n",
    "    errors.append(test_error(local_model, clone_model, test_loader))\n",
    "    klerrors.append(test_error(local_model, klclone_model, test_loader))\n",
    "                #train_loss += loss.item() * img.size(0)\n",
    "            #train_loss /= len(train_loader.dataset)\n",
    "            #print(f\"Global data Global Epoch: {epoch}: Local Epoch: {e} Loss: {train_loss}\")"
   ]
  },
  {
   "cell_type": "code",
   "execution_count": 13,
   "id": "f2ce4537",
   "metadata": {},
   "outputs": [
    {
     "data": {
      "text/plain": [
       "50"
      ]
     },
     "execution_count": 13,
     "metadata": {},
     "output_type": "execute_result"
    }
   ],
   "source": [
    "len(accs)"
   ]
  },
  {
   "cell_type": "code",
   "execution_count": 14,
   "id": "36987438",
   "metadata": {},
   "outputs": [
    {
     "data": {
      "image/png": "[encoded data removed]",
      "text/plain": [
       "<Figure size 432x288 with 1 Axes>"
      ]
     },
     "metadata": {
      "needs_background": "light"
     },
     "output_type": "display_data"
    }
   ],
   "source": [
    "\n",
    "x = np.arange(50)\n",
    "t = ['o', 'x', 'o']\n",
    "c = ['r', 'b', 'g']\n",
    "legends = ['Target Model', 'Clone Model Based on Labels','Clone Model Based on Logits']\n",
    "plt.plot(x, target_accs, label=legends[0])#,marker=t[i])\n",
    "plt.plot(x, accs, label=legends[1])#,marker=t[i])  \n",
    "plt.plot(x, klaccs, label=legends[2])#,marker=t[i])  \n",
    "#plt.plot(x, [errors[i] for i in range(0,len(accs),5)], label=legends[2])#,marker=t[i])  \n",
    "plt.xlabel('Iterations')\n",
    "plt.ylabel('Accuracy')\n",
    "plt.legend()\n",
    "plt.grid(True, linestyle='-.', color='black')\n",
    "\n",
    "#plt.savefig('clone_mnist79_kl.png')\n",
    "plt.show()"
   ]
  },
  {
   "cell_type": "code",
   "execution_count": null,
   "id": "7fa0c888",
   "metadata": {},
   "outputs": [],
   "source": []
  }
 ],
 "metadata": {
  "kernelspec": {
   "display_name": "Python 3 (ipykernel)",
   "language": "python",
   "name": "python3"
  },
  "language_info": {
   "codemirror_mode": {
    "name": "ipython",
    "version": 3
   },
   "file_extension": ".py",
   "mimetype": "text/x-python",
   "name": "python",
   "nbconvert_exporter": "python",
   "pygments_lexer": "ipython3",
   "version": "3.7.11"
  }
 },
 "nbformat": 4,
 "nbformat_minor": 5
}
